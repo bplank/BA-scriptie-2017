{
 "cells": [
  {
   "cell_type": "markdown",
   "metadata": {
    "slideshow": {
     "slide_type": "slide"
    }
   },
   "source": [
    "# Introduction to Machine Learning (ML)\n",
    "\n",
    "by [@barbara_plank](https://twitter.com/barbara_plank)\n",
    "\n",
    "[with parts inspired by many, amongst which: Anders Johannsen, Malvina, sklearn tutorial.. thanks!]"
   ]
  },
  {
   "cell_type": "markdown",
   "metadata": {
    "slideshow": {
     "slide_type": "slide"
    }
   },
   "source": [
    "## Machine learning = learning from data\n",
    "\n",
    "learning what? \n",
    "\n",
    "to make **predictions**"
   ]
  },
  {
   "cell_type": "markdown",
   "metadata": {
    "slideshow": {
     "slide_type": "fragment"
    }
   },
   "source": [
    "* is today a good day to get an ice cream?\n",
    "* what is the sentiment of this tweet?\n",
    "* how is the weather in 24h from now?"
   ]
  },
  {
   "cell_type": "markdown",
   "metadata": {
    "slideshow": {
     "slide_type": "slide"
    }
   },
   "source": [
    "## What do you do in front of a zebra crossing?\n",
    "\n",
    "<img src=\"pics/zebracrossing.jpg\">\n",
    "[Example inspired by traffic light by M.Nissim]"
   ]
  },
  {
   "cell_type": "markdown",
   "metadata": {
    "slideshow": {
     "slide_type": "slide"
    }
   },
   "source": [
    "## Zebra crossing\n",
    "\n",
    "**STOP** or **GO**\n",
    "\n",
    "How can we teach someone this behavior?"
   ]
  },
  {
   "cell_type": "markdown",
   "metadata": {
    "slideshow": {
     "slide_type": "fragment"
    }
   },
   "source": [
    "* create ad hoc **rules** (as exhaustive as possible)\n",
    "* collect a set of real **examples** of what people do at a zebra crossing"
   ]
  },
  {
   "cell_type": "markdown",
   "metadata": {
    "slideshow": {
     "slide_type": "slide"
    }
   },
   "source": [
    "### Examples\n",
    "\n",
    "collect **examples** (cases) of zebra crossings and people's behavior (stop or go)\n",
    "\n",
    "* zebra crossing $\\rightarrow$ **features** (characteristics)\n",
    "* result $\\rightarrow$ **label** (category: stop, go)\n",
    "\n",
    "with these examples we can use machine learning to **induce** a classifier (= **build a predictor**) that **generalizes** from the observed exampels"
   ]
  },
  {
   "cell_type": "markdown",
   "metadata": {
    "slideshow": {
     "slide_type": "slide"
    }
   },
   "source": [
    "## Why can't we just build a predictor by coding it up?"
   ]
  },
  {
   "cell_type": "markdown",
   "metadata": {
    "slideshow": {
     "slide_type": "fragment"
    }
   },
   "source": [
    "* can't be exhaustive enough\n",
    "* often we don't know how\n",
    "* trade-off between cost of obtaining **data** versus **knowledge**"
   ]
  },
  {
   "cell_type": "markdown",
   "metadata": {
    "slideshow": {
     "slide_type": "slide"
    }
   },
   "source": [
    "### Machine Learning versus traditional programming\n",
    "\n",
    "<img src=\"pics/prog-vs-ml.png\" width=600>"
   ]
  },
  {
   "cell_type": "markdown",
   "metadata": {
    "slideshow": {
     "slide_type": "slide"
    }
   },
   "source": [
    "## How do we know that our model generalized?\n",
    "\n",
    "We want to build a classifier that generalizes, i.e., that works *beyond* the training data.\n",
    "\n",
    "It generalizes reasonably well if it can predict well on new **unseen** test cases."
   ]
  },
  {
   "cell_type": "markdown",
   "metadata": {
    "slideshow": {
     "slide_type": "slide"
    }
   },
   "source": [
    "## Machine Learning is ubiquitous\n",
    "\n",
    "* recommended books in online book stores\n",
    "* your spam classifier\n",
    "* automatic machine translation\n",
    "* NetFlix movie recommendation\n"
   ]
  },
  {
   "cell_type": "markdown",
   "metadata": {
    "slideshow": {
     "slide_type": "slide"
    }
   },
   "source": [
    "## ML is the future, and you know it\n",
    "*Name one thing that computers cannot do today but might be able to accomplish in five years.*\n",
    "\n"
   ]
  },
  {
   "cell_type": "markdown",
   "metadata": {
    "slideshow": {
     "slide_type": "fragment"
    }
   },
   "source": [
    "- \"Make interesting conversational partners\"\n",
    "- \"Flawless object recognition (when objects are shown from an unfamiliar angle)\"\n",
    "- \"Cook food via robots?\"\n",
    "- \"Having AI similar to humans ... Strong AI.\"\n",
    "- \"Summarize the plot of a movie by visual analysis.\"\n",
    "\n",
    "[examples from AJ]"
   ]
  },
  {
   "cell_type": "markdown",
   "metadata": {
    "slideshow": {
     "slide_type": "slide"
    }
   },
   "source": [
    "## Classification\n",
    "\n",
    "In classification we assign a *discrete* label to an object.\n",
    "\n",
    "<img src=\"pics/running.jpg\">\n",
    "\n",
    "\n",
    "For instance, **what kind of food is passing on the running belt**?\n",
    "\n",
    "In programming terms, a classifier is an algorithm for deciding which category the object belongs to.\n",
    "In math terms, a classifier is a function that maps the object to a set of discrete categories."
   ]
  },
  {
   "cell_type": "markdown",
   "metadata": {
    "slideshow": {
     "slide_type": "slide"
    }
   },
   "source": [
    "### Function notation\n",
    "\n",
    "$$f: \\mathbb{R} \\mapsto \\mathbb{R}$$"
   ]
  },
  {
   "cell_type": "code",
   "execution_count": 6,
   "metadata": {
    "collapsed": true,
    "slideshow": {
     "slide_type": "fragment"
    }
   },
   "outputs": [],
   "source": [
    "def triple(a_number):\n",
    "    return 3 * a_number"
   ]
  },
  {
   "cell_type": "markdown",
   "metadata": {
    "slideshow": {
     "slide_type": "fragment"
    }
   },
   "source": [
    "$$f: \\mathbb{R} \\mapsto \\{-1, 1\\}$$"
   ]
  },
  {
   "cell_type": "code",
   "execution_count": 59,
   "metadata": {
    "collapsed": true,
    "slideshow": {
     "slide_type": "fragment"
    }
   },
   "outputs": [],
   "source": [
    "def is_expensive_house(house_price):\n",
    "    if house_price > 1000000:\n",
    "        return 1\n",
    "    else: \n",
    "        return -1"
   ]
  },
  {
   "cell_type": "markdown",
   "metadata": {
    "slideshow": {
     "slide_type": "slide"
    }
   },
   "source": [
    "### Classifier as a function\n",
    "\n",
    "Formally, we can think of a classifier as a mathmatical function $h$, mapping from the input to one of $k$ output categories. Often the input is a vector of real numbers.\n",
    "\n",
    "$$h: \\mathbb{R}^d \\mapsto \\{1, 2, \\ldots, k\\} $$"
   ]
  },
  {
   "cell_type": "markdown",
   "metadata": {
    "slideshow": {
     "slide_type": "fragment"
    }
   },
   "source": [
    "In some cases our instances can be represented by a binary vector\n",
    "\n",
    "$$h: \\mathbf{2}^d \\mapsto \\{1, 2, \\ldots, k\\}$$"
   ]
  },
  {
   "cell_type": "code",
   "execution_count": 8,
   "metadata": {
    "collapsed": true,
    "slideshow": {
     "slide_type": "fragment"
    }
   },
   "outputs": [],
   "source": [
    "# `instance` is a set of properties\n",
    "def classify_animal(instance):\n",
    "    if 'extinct' in instance and 'feathered' in instance:\n",
    "        return 'dinosaur'\n",
    "    elif 'feathered' in instance:\n",
    "        return 'bird'\n",
    "    else:\n",
    "        return 'mammal'"
   ]
  },
  {
   "cell_type": "markdown",
   "metadata": {
    "slideshow": {
     "slide_type": "slide"
    }
   },
   "source": [
    "## Machine learning algorithms"
   ]
  },
  {
   "cell_type": "markdown",
   "metadata": {
    "slideshow": {
     "slide_type": "fragment"
    }
   },
   "source": [
    "Machine learning algorithms are a special kind of algorithms that take data as input and return a new algorithm as output. E.g. "
   ]
  },
  {
   "cell_type": "markdown",
   "metadata": {
    "slideshow": {
     "slide_type": "fragment"
    }
   },
   "source": [
    "$$f: \\mathcal{D} \\mapsto \\left(\\mathbb{R}^d \\mapsto \\{1, 2, \\ldots, k\\}\\right)$$\n"
   ]
  },
  {
   "cell_type": "markdown",
   "metadata": {
    "slideshow": {
     "slide_type": "fragment"
    }
   },
   "source": [
    "Machine learning classification algorithms differ with respect to \n",
    "\n",
    "- What kind of input they can learn from (labeled, partly labeled, unlabeled).\n",
    "- How the hypothesis function $h$ is represented.\n",
    "- How well the hypothesis $h$ generalizes to new data."
   ]
  },
  {
   "cell_type": "markdown",
   "metadata": {
    "slideshow": {
     "slide_type": "slide"
    }
   },
   "source": [
    "## What we need\n",
    "\n",
    "1. Data\n",
    "  * what your data looks, the input $X$ and output (labels) $Y$ \n",
    "2. Features\n",
    "  * how to represent your data (the actual features): how to decompose $X$ into its parts by $\\phi$\n",
    "3. Model/Algorithm\n",
    "  * the machine learning algorithm used \n",
    "4. Evaluation\n",
    "  * how to measure how good your model is "
   ]
  },
  {
   "cell_type": "markdown",
   "metadata": {
    "slideshow": {
     "slide_type": "slide"
    }
   },
   "source": [
    "To visualize the whole:\n",
    "\n",
    "<img src=\"pics/learning.png\" width=800>"
   ]
  },
  {
   "cell_type": "markdown",
   "metadata": {
    "slideshow": {
     "slide_type": "slide"
    }
   },
   "source": [
    "## Classification vs Regression\n",
    "\n",
    "\n",
    "The goal of machine learning is to find a function $f$ that, given some input $x$, produces predictions for that input, $y$.\n",
    "\n",
    "In **supervised machine learning** the y’s are given, and are called the labels. They can be categorial, like ”sports”, ”news”, etc. or numerical, e.g. 7, 8,10. If the labels are categorical we speak of classification, in case of numerical labels the task is regression."
   ]
  },
  {
   "cell_type": "markdown",
   "metadata": {
    "slideshow": {
     "slide_type": "slide"
    }
   },
   "source": [
    "# References\n",
    "\n",
    "* [sklearn: Working with text data](http://scikit-learn.org/stable/tutorial/text_analytics/working_with_text_data.html)\n",
    "* Malvina Nissim and Johannes Bjerva. Learning from data, [ESSLLI 2016 lecture 1](http://esslli2016.unibz.it/wp-content/uploads/2015/10/lecture1.pdf)"
   ]
  }
 ],
 "metadata": {
  "celltoolbar": "Slideshow",
  "kernelspec": {
   "display_name": "Python 3",
   "language": "python",
   "name": "python3"
  },
  "language_info": {
   "codemirror_mode": {
    "name": "ipython",
    "version": 3
   },
   "file_extension": ".py",
   "mimetype": "text/x-python",
   "name": "python",
   "nbconvert_exporter": "python",
   "pygments_lexer": "ipython3",
   "version": "3.6.0"
  }
 },
 "nbformat": 4,
 "nbformat_minor": 0
}
